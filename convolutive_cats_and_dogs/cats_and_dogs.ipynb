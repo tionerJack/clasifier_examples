{
 "cells": [
  {
   "cell_type": "markdown",
   "metadata": {},
   "source": [
    "getting  dataset"
   ]
  },
  {
   "cell_type": "code",
   "execution_count": null,
   "metadata": {},
   "outputs": [],
   "source": [
    "import tensorflow as tf\n",
    "import urllib.request\n",
    "import os \n",
    "import zipfile"
   ]
  },
  {
   "cell_type": "code",
   "execution_count": null,
   "metadata": {},
   "outputs": [],
   "source": [
    "\n",
    "url = \"https://storage.googleapis.com/mledu-datasets/cats_and_dogs_filtered.zip\"\n",
    "\n",
    "tmpDirectory = os.getcwd() +\"/tmp\"\n",
    "\n",
    "if not os.path.exists(tmpDirectory):\n",
    "    os.makedirs(tmpDirectory)\n",
    "\n",
    "filename = tmpDirectory+\"/cats_and_dogs_filtered.zip\"\n",
    "urllib.request.urlretrieve(url,filename)\n",
    "\n",
    "zipRef = zipfile.ZipFile(filename,\"r\")\n",
    "zipRef.extractall(tmpDirectory)\n",
    "zipRef.close()\n"
   ]
  },
  {
   "cell_type": "code",
   "execution_count": null,
   "metadata": {},
   "outputs": [],
   "source": [
    "baseDir = os.path.join(tmpDirectory,\"cats_and_dogs_filtered\")\n",
    "\n",
    "trainDir = os.path.join(baseDir,\"train\")\n",
    "validationDir = os.path.join(baseDir,\"validation\")\n",
    "\n",
    "trainCatsDir = os.path.join(trainDir,\"cats\")\n",
    "trainDogsDir = os.path.join(trainDir,\"dogs\")\n",
    "\n",
    "validationCatsDir = os.path.join(validationDir,\"cats\")\n",
    "validationDogsDir = os.path.join(validationDir,\"dogs\")\n",
    "\n",
    "trainCatNames = os.listdir(trainCatsDir)\n",
    "trainDogNames = os.listdir(trainDogsDir)\n",
    "\n",
    "print(trainCatNames[:10])\n",
    "print(trainDogNames[:10])\n"
   ]
  },
  {
   "cell_type": "code",
   "execution_count": null,
   "metadata": {},
   "outputs": [],
   "source": [
    "\n",
    "model = tf.keras.models.Sequential(\n",
    "    [\n",
    "        tf.keras.layers.Conv2D(16,(3,3),activation=\"relu\", input_shape=(150,150,3) ),\n",
    "        tf.keras.layers.MaxPooling2D(2,2),\n",
    "        tf.keras.layers.Conv2D(32,(3,3),activation=\"relu\", input_shape=(150,150,3) ),\n",
    "        tf.keras.layers.MaxPooling2D(2,2),\n",
    "        tf.keras.layers.Conv2D(64,(3,3),activation=\"relu\", input_shape=(150,150,3) ),\n",
    "        tf.keras.layers.MaxPooling2D(2,2),\n",
    "        tf.keras.layers.Flatten(),\n",
    "        tf.keras.layers.Dense(512,activation=\"relu\"),\n",
    "        tf.keras.layers.Dense(1,activation=\"sigmoid\")\n",
    "    ]\n",
    ")\n",
    "\n",
    "model.summary()"
   ]
  },
  {
   "cell_type": "code",
   "execution_count": null,
   "metadata": {},
   "outputs": [],
   "source": [
    "model.compile(optimizer=tf.keras.optimizers.RMSprop(learning_rate=0.001),loss=\"binary_crossentropy\",metrics=[\"accuracy\"])"
   ]
  },
  {
   "cell_type": "code",
   "execution_count": null,
   "metadata": {},
   "outputs": [],
   "source": [
    "train_datagen = tf.keras.preprocessing.image.ImageDataGenerator(rescale=1.0/255.)\n",
    "test_datagen = tf.keras.preprocessing.image.ImageDataGenerator(rescale=1.0/255.)\n",
    "train_generation = train_datagen.flow_from_directory(trainDir,batch_size=20,class_mode=\"binary\",target_size=(150,150))\n",
    "validation_generation = test_datagen.flow_from_directory(validationDir,batch_size=20,class_mode=\"binary\",target_size=(150,150))"
   ]
  },
  {
   "cell_type": "code",
   "execution_count": null,
   "metadata": {},
   "outputs": [],
   "source": [
    "history = model.fit(train_generation,validation_data=validation_generation,steps_per_epoch=100,epochs=15,validation_steps=50,verbose=2)"
   ]
  }
 ],
 "metadata": {
  "kernelspec": {
   "display_name": "Python 3",
   "language": "python",
   "name": "python3"
  },
  "language_info": {
   "codemirror_mode": {
    "name": "ipython",
    "version": 3
   },
   "file_extension": ".py",
   "mimetype": "text/x-python",
   "name": "python",
   "nbconvert_exporter": "python",
   "pygments_lexer": "ipython3",
   "version": "3.11.6"
  }
 },
 "nbformat": 4,
 "nbformat_minor": 2
}
