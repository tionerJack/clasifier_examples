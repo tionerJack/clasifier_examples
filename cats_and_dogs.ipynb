{
 "cells": [
  {
   "cell_type": "code",
   "execution_count": 5,
   "metadata": {},
   "outputs": [
    {
     "data": {
      "text/plain": [
       "('/home/tioner/Documentos/maestria/2/sistemas cognitivos/image_secuencial_clasifier/tmp/cats_and_dogs_filtered.zip',\n",
       " <http.client.HTTPMessage at 0x7f448c1f7850>)"
      ]
     },
     "execution_count": 5,
     "metadata": {},
     "output_type": "execute_result"
    }
   ],
   "source": [
    "import urllib.request\n",
    "import os \n",
    "url = \"https://storage.googleapis.com/mledu-datasets/cats_and_dogs_filtered.zip\"\n",
    "tmpDirectory = os.getcwd() +\"/tmp\"\n",
    "if not os.path.exists(tmpDirectory):\n",
    "        os.makedirs(tmpDirectory)\n",
    "filename = tmpDirectory+\"/cats_and_dogs_filtered.zip\"\n",
    "urllib.request.urlretrieve(url,filename)"
   ]
  },
  {
   "cell_type": "code",
   "execution_count": 7,
   "metadata": {},
   "outputs": [],
   "source": [
    "import zipfile\n",
    "zipRef = zipfile.ZipFile(filename,\"r\")\n",
    "\n",
    "zipRef.extractall(tmpDirectory)\n",
    "zipRef.close()"
   ]
  }
 ],
 "metadata": {
  "kernelspec": {
   "display_name": "Python 3",
   "language": "python",
   "name": "python3"
  },
  "language_info": {
   "codemirror_mode": {
    "name": "ipython",
    "version": 3
   },
   "file_extension": ".py",
   "mimetype": "text/x-python",
   "name": "python",
   "nbconvert_exporter": "python",
   "pygments_lexer": "ipython3",
   "version": "3.11.6"
  }
 },
 "nbformat": 4,
 "nbformat_minor": 2
}
