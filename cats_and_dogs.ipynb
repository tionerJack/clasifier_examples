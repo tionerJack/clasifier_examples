{
 "cells": [
  {
   "cell_type": "markdown",
   "metadata": {},
   "source": [
    "getting  dataset"
   ]
  },
  {
   "cell_type": "code",
   "execution_count": 8,
   "metadata": {},
   "outputs": [
    {
     "data": {
      "text/plain": [
       "('/home/tioner/Documentos/maestria/2/sistemas cognitivos/image_secuencial_clasifier/tmp/cats_and_dogs_filtered.zip',\n",
       " <http.client.HTTPMessage at 0x7f448c1f21d0>)"
      ]
     },
     "execution_count": 8,
     "metadata": {},
     "output_type": "execute_result"
    }
   ],
   "source": [
    "import urllib.request\n",
    "import os \n",
    "import zipfile\n",
    "\n",
    "url = \"https://storage.googleapis.com/mledu-datasets/cats_and_dogs_filtered.zip\"\n",
    "\n",
    "tmpDirectory = os.getcwd() +\"/tmp\"\n",
    "\n",
    "if not os.path.exists(tmpDirectory):\n",
    "    os.makedirs(tmpDirectory)\n",
    "\n",
    "filename = tmpDirectory+\"/cats_and_dogs_filtered.zip\"\n",
    "urllib.request.urlretrieve(url,filename)\n",
    "\n",
    "zipRef = zipfile.ZipFile(filename,\"r\")\n",
    "zipRef.extractall(tmpDirectory)\n",
    "zipRef.close()\n"
   ]
  },
  {
   "cell_type": "code",
   "execution_count": 13,
   "metadata": {},
   "outputs": [
    {
     "name": "stdout",
     "output_type": "stream",
     "text": [
      "['cat.967.jpg', 'cat.42.jpg', 'cat.81.jpg', 'cat.983.jpg', 'cat.601.jpg', 'cat.358.jpg', 'cat.109.jpg', 'cat.637.jpg', 'cat.427.jpg', 'cat.818.jpg']\n",
      "['dog.330.jpg', 'dog.261.jpg', 'dog.253.jpg', 'dog.404.jpg', 'dog.960.jpg', 'dog.758.jpg', 'dog.904.jpg', 'dog.146.jpg', 'dog.414.jpg', 'dog.236.jpg']\n"
     ]
    }
   ],
   "source": [
    "baseDir = os.path.join(tmpDirectory,\"cats_and_dogs_filtered\")\n",
    "\n",
    "trainDir = os.path.join(baseDir,\"train\")\n",
    "validationDir = os.path.join(baseDir,\"validation\")\n",
    "\n",
    "trainCatsDir = os.path.join(trainDir,\"cats\")\n",
    "trainDogsDir = os.path.join(trainDir,\"dogs\")\n",
    "\n",
    "validationCatsDir = os.path.join(validationDir,\"cats\")\n",
    "validationDogsDir = os.path.join(validationDir,\"dogs\")\n",
    "\n",
    "trainCatNames = os.listdir(trainCatsDir)\n",
    "trainDogNames = os.listdir(trainDogsDir)\n",
    "\n",
    "print(trainCatNames[:10])\n",
    "print(trainDogNames[:10])\n"
   ]
  }
 ],
 "metadata": {
  "kernelspec": {
   "display_name": "Python 3",
   "language": "python",
   "name": "python3"
  },
  "language_info": {
   "codemirror_mode": {
    "name": "ipython",
    "version": 3
   },
   "file_extension": ".py",
   "mimetype": "text/x-python",
   "name": "python",
   "nbconvert_exporter": "python",
   "pygments_lexer": "ipython3",
   "version": "3.11.6"
  }
 },
 "nbformat": 4,
 "nbformat_minor": 2
}
